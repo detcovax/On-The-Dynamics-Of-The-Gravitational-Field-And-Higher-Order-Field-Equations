{
 "cells": [
  {
   "cell_type": "code",
   "execution_count": 1,
   "metadata": {},
   "outputs": [],
   "source": [
    "import numpy as np\n",
    "import matplotlib.pyplot as plt\n",
    "from matplotlib.lines import Line2D"
   ]
  },
  {
   "cell_type": "code",
   "execution_count": 2,
   "metadata": {},
   "outputs": [],
   "source": [
    "G = 6.67 * (10**(-11)) #Newtons const [m^3][kg^-1][s^-2]\n",
    "M = 2 * (10**(41)) #average mass of spiral galaxy [kg]\n",
    "#4.63 * (10**(20)) #average radius of spiral galaxy [m]\n",
    "rho_0 = 10**(-21) #average central mass density of a spiral galaxy [kg][m^-3]"
   ]
  },
  {
   "cell_type": "code",
   "execution_count": 3,
   "metadata": {},
   "outputs": [],
   "source": [
    "# Define the parameters\n",
    "char_raddii = [10, 1000, 1000000, 1]  # Example values for r_d"
   ]
  },
  {
   "cell_type": "code",
   "execution_count": 4,
   "metadata": {},
   "outputs": [
    {
     "ename": "",
     "evalue": "",
     "output_type": "error",
     "traceback": [
      "\u001b[1;31mThe Kernel crashed while executing code in the current cell or a previous cell. \n",
      "\u001b[1;31mPlease review the code in the cell(s) to identify a possible cause of the failure. \n",
      "\u001b[1;31mClick <a href='https://aka.ms/vscodeJupyterKernelCrash'>here</a> for more info. \n",
      "\u001b[1;31mView Jupyter <a href='command:jupyter.viewOutput'>log</a> for further details."
     ]
    }
   ],
   "source": [
    "# Define the function\n",
    "def v_vs_r(r, r_d):\n",
    "    return np.sqrt((G*M)/(r) + (G * M * r * (np.log(r_d)/r_d)) * np.exp(-np.log(r_d)/r_d * r))\n",
    "\n",
    "# Generate r values\n",
    "# np.linspace(min, max, steps)\n",
    "r_values = np.linspace(0.1, 10000000, 100000000)\n",
    "\n",
    "# Plot the function for each r_d\n",
    "for r_d in char_raddii:\n",
    "    v_values = v_vs_r(r_values, r_d)\n",
    "    plt.plot(r_values, v_values, label=f'r_d = {r_d}' + (' (Keplarian)' if r_d==1 else ''), linestyle=(0, (4, 5)) if r_d==1 else '-', color='black' if r_d==1 else None)\n",
    "\n",
    "# # plot newtonian for comparision\n",
    "# v_values = v_vs_r(r_values, 0, 1)\n",
    "# plt.plot(r_values, v_values, label=f'r_d = 1 (Newtonian)', linestyle=(0, (4, 5)), color='black')\n",
    "\n",
    "plt.yscale('log')  # Set the y-axis to logarithmic scale\n",
    "plt.xscale('log')  # Set the x-axis to logarithmic scale\n",
    "\n",
    "plt.xlabel('r (m)')\n",
    "plt.ylabel('Orbital Velocities (m/s)')\n",
    "plt.title('Orbital Velocites vs. r')\n",
    "plt.legend(title=\"Characteristic Radii (m)\", loc=\"lower left\")\n",
    "plt.grid(True)\n",
    "\n",
    "plt.savefig('figures/graph_orbvelVr.png', dpi=300, bbox_inches='tight')\n",
    "\n",
    "plt.show()"
   ]
  },
  {
   "cell_type": "code",
   "execution_count": null,
   "metadata": {},
   "outputs": [],
   "source": [
    "import subprocess\n",
    "subprocess.call(\"jupyter nbconvert --to script velocity_curves.ipynb\")"
   ]
  }
 ],
 "metadata": {
  "kernelspec": {
   "display_name": "Python 3",
   "language": "python",
   "name": "python3"
  },
  "language_info": {
   "codemirror_mode": {
    "name": "ipython",
    "version": 3
   },
   "file_extension": ".py",
   "mimetype": "text/x-python",
   "name": "python",
   "nbconvert_exporter": "python",
   "pygments_lexer": "ipython3",
   "version": "3.11.10"
  }
 },
 "nbformat": 4,
 "nbformat_minor": 2
}
